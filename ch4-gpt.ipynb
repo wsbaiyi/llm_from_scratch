{
 "cells": [
  {
   "cell_type": "code",
   "execution_count": 1,
   "metadata": {},
   "outputs": [],
   "source": [
    "GPT_CONFIG_124M = {\n",
    "    \"vocab_size\": 50257,    # Vocabulary size\n",
    "    \"context_length\": 1024, # Context length\n",
    "    \"emb_dim\": 768,         # Embedding dimension\n",
    "    \"n_heads\": 12,          # Number of attention heads\n",
    "    \"n_layers\": 12,         # Number of layers\n",
    "    \"drop_rate\": 0.1,       # Dropout rate\n",
    "    \"qkv_bias\": False       # Query-Key-Value bias\n",
    "}"
   ]
  },
  {
   "cell_type": "code",
   "execution_count": 22,
   "metadata": {},
   "outputs": [],
   "source": [
    "# Listing 4.1 A placeholder GPT model architecture class\n",
    "import torch\n",
    "import torch.nn as nn\n",
    "\n",
    "class DummyGPTModel(nn.Module):\n",
    "    def __init__(self, cfg):\n",
    "        super().__init__()\n",
    "        self.embed=nn.Embedding(cfg['vocab_size'],cfg['emb_dim'])\n",
    "        self.pos=nn.Embedding(cfg['context_length'],cfg['emb_dim'])\n",
    "        \n",
    "        self.dropout=nn.Dropout(cfg['drop_rate'])\n",
    "        self.tf_block=nn.Sequential(\n",
    "            *[DummyTransformerBlock(cfg) for _ in range(cfg['n_layers'])]\n",
    "        )\n",
    "        self.layer_norm=DummyLayerNorm(cfg['emb_dim'])\n",
    "        self.fc=nn.Linear(cfg['emb_dim'],cfg['vocab_size'],bias=False)\n",
    "        \n",
    "    def forward(self,x):\n",
    "        b,token_len=x.shape\n",
    "        emb=self.embed(x)\n",
    "        pos=self.pos(torch.arange(token_len,device=x.device))\n",
    "        inputs=emb+pos\n",
    "        \n",
    "        x=self.dropout(inputs)\n",
    "        x=self.tf_block(x)\n",
    "        x=self.layer_norm(x)\n",
    "        x=self.fc(x)\n",
    "        \n",
    "        return x\n",
    "        \n",
    "        \n",
    "        \n",
    "class DummyTransformerBlock(nn.Module):                                       #C\n",
    "    def __init__(self, cfg):\n",
    "        super().__init__()\n",
    "\n",
    "    def forward(self, x):                                                     #D\n",
    "        return x\n",
    "\n",
    "class DummyLayerNorm(nn.Module):                                              #E\n",
    "    def __init__(self, normalized_shape, eps=1e-5):                           #F\n",
    "        super().__init__()\n",
    "\n",
    "    def forward(self, x):\n",
    "        return x"
   ]
  },
  {
   "cell_type": "code",
   "execution_count": 23,
   "metadata": {},
   "outputs": [],
   "source": [
    "import tiktoken"
   ]
  },
  {
   "cell_type": "code",
   "execution_count": 24,
   "metadata": {},
   "outputs": [
    {
     "data": {
      "text/plain": [
       "tensor([[6109, 3626, 6100,  345],\n",
       "        [6109, 3626, 6100,  345]])"
      ]
     },
     "execution_count": 24,
     "metadata": {},
     "output_type": "execute_result"
    }
   ],
   "source": [
    "txt1 = \"Every effort moves you\"\n",
    "txt2 = \"Every day holds a\"\n",
    "tokenizer=tiktoken.get_encoding('gpt2')\n",
    "id1=torch.tensor(tokenizer.encode(txt1))\n",
    "id2=torch.tensor(tokenizer.encode(txt2))\n",
    "# 使用cat只会得到一维向量\n",
    "batch=torch.stack([id1,id1],dim=0)\n",
    "batch"
   ]
  },
  {
   "cell_type": "code",
   "execution_count": 26,
   "metadata": {},
   "outputs": [
    {
     "name": "stdout",
     "output_type": "stream",
     "text": [
      "tensor([[[-0.9289,  0.2748, -0.7557,  ..., -1.6070,  0.2702, -0.5888],\n",
      "         [-0.4476,  0.1726,  0.5354,  ..., -0.3932,  1.5285,  0.8557],\n",
      "         [ 0.5680,  1.6053, -0.2155,  ...,  1.1624,  0.1380,  0.7425],\n",
      "         [ 0.0447,  2.4787, -0.8843,  ...,  1.3219, -0.0864, -0.5856]],\n",
      "\n",
      "        [[-1.5474, -0.0542, -1.0571,  ..., -1.8061, -0.4494, -0.6747],\n",
      "         [ 0.2673,  0.7159, -0.4726,  ..., -0.5923,  1.0530,  1.1042],\n",
      "         [ 0.2423,  1.3367, -0.5303,  ...,  1.8892, -0.5572,  0.1469],\n",
      "         [ 0.5900,  1.6046, -0.4373,  ...,  1.9740, -0.3847, -1.5081]]],\n",
      "       grad_fn=<UnsafeViewBackward0>)\n",
      "torch.Size([2, 4, 50257])\n"
     ]
    }
   ],
   "source": [
    "torch.manual_seed(123)\n",
    "model=DummyGPTModel(GPT_CONFIG_124M)\n",
    "outputs=model(batch)\n",
    "print(outputs)\n",
    "print(outputs.shape)"
   ]
  },
  {
   "cell_type": "code",
   "execution_count": 32,
   "metadata": {},
   "outputs": [
    {
     "name": "stdout",
     "output_type": "stream",
     "text": [
      "tensor([[0.1324],\n",
      "        [0.2170]], grad_fn=<MeanBackward1>)\n",
      "tensor([[0.0231],\n",
      "        [0.0398]], grad_fn=<VarBackward0>)\n"
     ]
    }
   ],
   "source": [
    "torch.manual_seed(123)\n",
    "data=torch.randn(2,5)\n",
    "change=nn.Sequential(nn.Linear(5,6),nn.ReLU())\n",
    "out=change(data)\n",
    "out.shape\n",
    "mean=out.mean(dim=-1,keepdim=True)\n",
    "var=out.var(dim=-1,keepdim=True)\n",
    "print(mean)\n",
    "print(var)"
   ]
  },
  {
   "cell_type": "code",
   "execution_count": 35,
   "metadata": {},
   "outputs": [
    {
     "name": "stdout",
     "output_type": "stream",
     "text": [
      "tensor([[    0.0000],\n",
      "        [    0.0000]], grad_fn=<MeanBackward1>)\n",
      "tensor([[1.0000],\n",
      "        [1.0000]], grad_fn=<VarBackward0>)\n"
     ]
    }
   ],
   "source": [
    "output=(out-mean)/var.sqrt()\n",
    "# 关闭科学计数法\n",
    "torch.set_printoptions(sci_mode=False)\n",
    "print(output.mean(dim=-1,keepdim=True))\n",
    "print(output.var(dim=-1,keepdim=True))\n"
   ]
  },
  {
   "cell_type": "code",
   "execution_count": 50,
   "metadata": {},
   "outputs": [],
   "source": [
    "# Listing 4.2 A layer normalization class\n",
    "#与在数量batch维度上进行归一化的批量归一化不同，层归一化是在特征维度上进行归一化\n",
    "# 由于层归一化对每个输入的处理不依赖批量大小，因此在这些场景下提供了更高的灵活性和稳定性\n",
    "class LayerNorm(nn.Module):\n",
    "    def __init__(self, emb_dim):\n",
    "        super().__init__()\n",
    "        self.eps=1e-5\n",
    "        self.scale=nn.Parameter(torch.ones(emb_dim))\n",
    "        self.shift=nn.Parameter(torch.zeros(emb_dim))\n",
    "    \n",
    "    def forward(self,x):\n",
    "        mean=x.mean(dim=-1,keepdim=True)\n",
    "        #可以理解为我们在方差公式中直接用样本数 n 作为分母，不使用贝塞尔校正（通常分母使用 n−1 以校正样本方差估计中的偏差）。\n",
    "        #这种决定会导致所谓的有偏方差估计。对于大语言模型（LLM）来说，其嵌入维度 n 通常非常大，因此使用 n 和 n−1 的差异实际上可以忽略不计。\n",
    "        #我们选择这种方式是为了确保与 GPT-2 模型的归一化层兼容\n",
    "        var=x.var(dim=-1,keepdim=True,unbiased=False)\n",
    "        output=(x-mean)/torch.sqrt(var+self.eps)\n",
    "        \n",
    "        return self.scale*output+self.shift"
   ]
  },
  {
   "cell_type": "code",
   "execution_count": 51,
   "metadata": {},
   "outputs": [
    {
     "data": {
      "text/plain": [
       "tensor([[-0.1115,  0.1204, -0.3696, -0.2404, -1.1969],\n",
       "        [ 0.2093, -0.9724, -0.7550,  0.3239, -0.1085]])"
      ]
     },
     "execution_count": 51,
     "metadata": {},
     "output_type": "execute_result"
    }
   ],
   "source": [
    "torch.manual_seed(123)\n",
    "data"
   ]
  },
  {
   "cell_type": "code",
   "execution_count": 55,
   "metadata": {},
   "outputs": [
    {
     "name": "stdout",
     "output_type": "stream",
     "text": [
      "tensor([[    -0.0000],\n",
      "        [     0.0000]], grad_fn=<MeanBackward1>)\n",
      "tensor([[1.0000],\n",
      "        [1.0000]], grad_fn=<VarBackward0>)\n"
     ]
    }
   ],
   "source": [
    "ln=LayerNorm(5)\n",
    "output=ln(data)\n",
    "print(output.mean(dim=-1,keepdim=True))\n",
    "print(output.var(dim=-1,keepdim=True,unbiased=False))"
   ]
  },
  {
   "cell_type": "code",
   "execution_count": 56,
   "metadata": {},
   "outputs": [],
   "source": [
    "# Listing 4.3 An implementation of the GELU activation function\n",
    "# GELU激活函数\n",
    "class GELU(nn.Module):\n",
    "    def __init__(self):\n",
    "        super().__init__()\n",
    "\n",
    "    def forward(self, x):\n",
    "        return 0.5 * x * (1 + torch.tanh(\n",
    "            torch.sqrt(torch.tensor(2.0 / torch.pi)) *\n",
    "            (x + 0.044715 * torch.pow(x, 3))\n",
    "        ))"
   ]
  },
  {
   "cell_type": "code",
   "execution_count": 59,
   "metadata": {},
   "outputs": [
    {
     "data": {
      "image/png": "[encoded data removed]",
      "text/plain": [
       "<Figure size 500x500 with 2 Axes>"
      ]
     },
     "metadata": {},
     "output_type": "display_data"
    }
   ],
   "source": [
    "x=torch.linspace(-3,3,100)\n",
    "import matplotlib.pyplot as plt\n",
    "plt.figure(figsize=(5,5))\n",
    "glu,rlu=GELU(),nn.ReLU()\n",
    "x1=glu(x)\n",
    "x2=rlu(x)\n",
    "for i,(title,data) in enumerate(zip(['glu','rlu'],[x1,x2])):\n",
    "    plt.subplot(1,2,i+1)\n",
    "    plt.plot(x,data)\n",
    "    plt.title(title)\n",
    "plt.show()\n",
    "# ReLU 是一个分段线性函数，输入为正时输出输入值本身，否则输出零。而 GELU 是一种平滑的非线性函数，它近似于 ReLU，但在负值上也具有非零梯度。\n"
   ]
  },
  {
   "cell_type": "code",
   "execution_count": 60,
   "metadata": {},
   "outputs": [],
   "source": [
    "# Listing 4.4 A feed forward neural network module\n",
    "class FeedForward(nn.Module):\n",
    "    def __init__(self, cfg):\n",
    "        super().__init__()\n",
    "        self.layers=nn.Sequential(\n",
    "            # 扩展后的高维空间可以让模型“看到”输入数据中更多的隐藏特征，提取出更丰富的信息。\n",
    "            # 然后在收缩回低维度时，这些丰富的特征被整合到了输入的原始维度表示中，使模型最终的输出包含更多的上下文和信息\n",
    "            nn.Linear(cfg['emb_dim'],4*cfg['emb_dim']),\n",
    "            GELU(),\n",
    "            nn.Linear(4*cfg['emb_dim'],cfg['emb_dim'])\n",
    "        )\n",
    "    def forward(self,x):\n",
    "        return self.layers(x)"
   ]
  },
  {
   "cell_type": "code",
   "execution_count": 61,
   "metadata": {},
   "outputs": [
    {
     "name": "stdout",
     "output_type": "stream",
     "text": [
      "torch.Size([2, 3, 768])\n"
     ]
    }
   ],
   "source": [
    "ffn = FeedForward(GPT_CONFIG_124M)\n",
    "x = torch.rand(2, 3, 768)          #A\n",
    "out = ffn(x)\n",
    "print(out.shape)\n",
    "\n",
    "#A 创建一个 batch 大小为 2 的示例输入"
   ]
  },
  {
   "cell_type": "code",
   "execution_count": 66,
   "metadata": {},
   "outputs": [],
   "source": [
    "# 快捷连接（也称跳跃连接或残差连接）的概念。快捷连接最初是在计算机视觉中的深度网络（尤其是残差网络）提出的，用于缓解梯度消失问题。\n",
    "# 梯度消失是指在训练中指导权重更新的梯度在反向传播过程中逐渐减小，导致早期层（靠近输入端的网络层）难以有效训练\n",
    "# Listing 4.5 A neural network to illustrate shortcut connections\n",
    "class ExampleDeepNeuralNetwork(nn.Module):\n",
    "    def __init__(self, layer_sizes, use_shortcut):\n",
    "        super().__init__()\n",
    "        self.use_shortcut=use_shortcut\n",
    "        self.layers=nn.ModuleList(\n",
    "            [\n",
    "                nn.Sequential(nn.Linear(layer_sizes[0],layer_sizes[1]),GELU()),\n",
    "                nn.Sequential(nn.Linear(layer_sizes[1],layer_sizes[2]),GELU()),\n",
    "                nn.Sequential(nn.Linear(layer_sizes[2],layer_sizes[3]),GELU()),\n",
    "                nn.Sequential(nn.Linear(layer_sizes[3],layer_sizes[4]),GELU()),\n",
    "                nn.Sequential(nn.Linear(layer_sizes[4],layer_sizes[5]),GELU()),\n",
    "            ]\n",
    "        )\n",
    "    def forward(self,x):\n",
    "        for layer in self.layers:\n",
    "            output=layer(x)\n",
    "            if self.use_shortcut and x.shape==output.shape:\n",
    "                x=output+x\n",
    "            else:\n",
    "                x=output\n",
    "        return x"
   ]
  },
  {
   "cell_type": "code",
   "execution_count": 67,
   "metadata": {},
   "outputs": [],
   "source": [
    "layer_sizes = [3, 3, 3, 3, 3, 1]\n",
    "sample_input = torch.tensor([[1., 0., -1.]])"
   ]
  },
  {
   "cell_type": "code",
   "execution_count": 70,
   "metadata": {},
   "outputs": [],
   "source": [
    "# 测试不使用残差跳连的梯度\n",
    "model_without_shortcut=ExampleDeepNeuralNetwork(layer_sizes,False)\n",
    "# 使用残差跳连\n",
    "model_with_shortcut=ExampleDeepNeuralNetwork(layer_sizes,True)"
   ]
  },
  {
   "cell_type": "code",
   "execution_count": 78,
   "metadata": {},
   "outputs": [],
   "source": [
    "# 定义梯度\n",
    "def  get_gradiant(model,x):\n",
    "    output=model(x)\n",
    "    target=torch.tensor([[0.]])\n",
    "    \n",
    "    loss=nn.MSELoss()\n",
    "    l=loss(output,target)\n",
    "    \n",
    "    l.backward()\n",
    "    \n",
    "    \n",
    "    for name,weight in model.named_parameters():\n",
    "        if 'weight' in name:\n",
    "            print(f'name:{name} grad is {weight.grad.abs().mean().item()}')"
   ]
  },
  {
   "cell_type": "code",
   "execution_count": 80,
   "metadata": {},
   "outputs": [
    {
     "name": "stdout",
     "output_type": "stream",
     "text": [
      "name:layers.0.0.weight grad is 0.0006052075768820941\n",
      "name:layers.1.0.weight grad is 0.00036033481592312455\n",
      "name:layers.2.0.weight grad is 0.0021456123795360327\n",
      "name:layers.3.0.weight grad is 0.004196621477603912\n",
      "name:layers.4.0.weight grad is 0.015148940496146679\n"
     ]
    }
   ],
   "source": [
    "# 梯度衰减严重\n",
    "get_gradiant(model_without_shortcut,sample_input)"
   ]
  },
  {
   "cell_type": "code",
   "execution_count": 82,
   "metadata": {},
   "outputs": [
    {
     "name": "stdout",
     "output_type": "stream",
     "text": [
      "name:layers.0.0.weight grad is 0.009734145365655422\n",
      "name:layers.1.0.weight grad is 0.03095017559826374\n",
      "name:layers.2.0.weight grad is 0.013045227155089378\n",
      "name:layers.3.0.weight grad is 0.007606383878737688\n",
      "name:layers.4.0.weight grad is 0.0726315826177597\n"
     ]
    }
   ],
   "source": [
    "# 梯度趋于稳定\n",
    "get_gradiant(model_with_shortcut,sample_input)"
   ]
  },
  {
   "cell_type": "code",
   "execution_count": 86,
   "metadata": {},
   "outputs": [],
   "source": [
    "# 多头注意力\n",
    "# Listing 3.5 An efficient multi-head attention class\n",
    "# 多头注意力；关键理解view和transpose\n",
    "class MultiHeadAttention(nn.Module):\n",
    "    def __init__(self, d_in, d_out,\n",
    "                 context_length, dropout, num_heads, qkv_bias=False):\n",
    "        super().__init__()\n",
    "        assert d_out%num_heads==0\n",
    "        self.num_heads=num_heads\n",
    "        self.d_in=d_in\n",
    "        self.d_out=d_out\n",
    "        self.head_dim=d_out//num_heads\n",
    "        \n",
    "        self.dropout=nn.Dropout(dropout)\n",
    "        self.w_q=nn.Linear(d_in,d_out,bias=qkv_bias)\n",
    "        self.w_k=nn.Linear(d_in,d_out,bias=qkv_bias)\n",
    "        self.w_v=nn.Linear(d_in,d_out,bias=qkv_bias)\n",
    "        \n",
    "        self.register_buffer('mask',torch.triu(torch.ones(context_length,context_length),diagonal=1))\n",
    "        self.proj=nn.Linear(d_out,d_out)\n",
    "    def forward(self,x):\n",
    "        b,token_size,d_in=x.shape\n",
    "        query=self.w_q(x)\n",
    "        key=self.w_k(x)\n",
    "        # b,token_size,d_out\n",
    "        value=self.w_v(x)\n",
    "        \n",
    "        # 多头  \n",
    "        # b,token_size,heads,head_dim\n",
    "        query=query.view(b,token_size,self.num_heads,self.head_dim)\n",
    "        key=key.view(b,token_size,self.num_heads,self.head_dim)\n",
    "        value=value.view(b,token_size,self.num_heads,self.head_dim)\n",
    "        \n",
    "        # b,heads,token_size,head_dim\n",
    "        query=query.transpose(1,2)\n",
    "        key=key.transpose(1,2)\n",
    "        value=value.transpose(1,2)\n",
    "        \n",
    "        # b,heads,token_size,token_size\n",
    "        score=query@key.transpose(-1,-2)\n",
    "        score.masked_fill_(self.mask.bool()[:token_size,:token_size],-torch.inf)\n",
    "        \n",
    "        weight=torch.softmax(score/key.shape[-1]**0.5,dim=-1)\n",
    "        weight=self.dropout(weight)\n",
    "        \n",
    "        # b,heads,token_size,head_dim\n",
    "        context=weight@value\n",
    "        \n",
    "        return self.proj(context.contiguous().transpose(1,2).reshape(b,token_size,self.d_out))"
   ]
  },
  {
   "cell_type": "code",
   "execution_count": 87,
   "metadata": {},
   "outputs": [],
   "source": [
    "class TransformerBlock(nn.Module):\n",
    "    def __init__(self, cfg):\n",
    "        super().__init__()\n",
    "        self.att = MultiHeadAttention(\n",
    "        d_in=cfg[\"emb_dim\"],\n",
    "        d_out=cfg[\"emb_dim\"],\n",
    "        context_length=cfg[\"context_length\"],\n",
    "        num_heads=cfg[\"n_heads\"],\n",
    "        dropout=cfg[\"drop_rate\"],\n",
    "        qkv_bias=cfg[\"qkv_bias\"])\n",
    "        \n",
    "        self.norm1=LayerNorm(cfg[\"emb_dim\"])\n",
    "        self.norm2=LayerNorm(cfg[\"emb_dim\"])\n",
    "        self.feed=FeedForward(cfg)\n",
    "        self.drop=nn.Dropout(cfg['drop_rate'])\n",
    "    def forward(self,x):\n",
    "        shortcut=x\n",
    "        x=self.att(x)\n",
    "        x=self.norm1(x)\n",
    "        x=self.drop(x)\n",
    "        \n",
    "        x=x+shortcut\n",
    "        \n",
    "        shortcut=x\n",
    "        x=self.norm2(x)\n",
    "        x=self.feed(x)\n",
    "        x=self.drop(x)\n",
    "        \n",
    "        return x+shortcut"
   ]
  },
  {
   "cell_type": "code",
   "execution_count": 88,
   "metadata": {},
   "outputs": [
    {
     "name": "stdout",
     "output_type": "stream",
     "text": [
      "Input shape: torch.Size([2, 4, 768])\n",
      "Output shape: torch.Size([2, 4, 768])\n"
     ]
    }
   ],
   "source": [
    "torch.manual_seed(123)\n",
    "x = torch.rand(2, 4, 768)                    #A\n",
    "block = TransformerBlock(GPT_CONFIG_124M)\n",
    "output = block(x)\n",
    "\n",
    "print(\"Input shape:\", x.shape)\n",
    "print(\"Output shape:\", output.shape)\n"
   ]
  },
  {
   "cell_type": "code",
   "execution_count": 89,
   "metadata": {},
   "outputs": [],
   "source": [
    "# GPT_CONFIG_124M = {\n",
    "#     \"vocab_size\": 50257,    # Vocabulary size\n",
    "#     \"context_length\": 1024, # Context length\n",
    "#     \"emb_dim\": 768,         # Embedding dimension\n",
    "#     \"n_heads\": 12,          # Number of attention heads\n",
    "#     \"n_layers\": 12,         # Number of layers\n",
    "#     \"drop_rate\": 0.1,       # Dropout rate\n",
    "#     \"qkv_bias\": False       # Query-Key-Value bias\n",
    "# }"
   ]
  },
  {
   "cell_type": "code",
   "execution_count": 90,
   "metadata": {},
   "outputs": [],
   "source": [
    "# Listing 4.7 The GPT model architecture implementation\n",
    "class GPTModel(nn.Module):\n",
    "    def __init__(self, cfg):\n",
    "        super().__init__()\n",
    "        self.emb=nn.Embedding(num_embeddings=cfg['vocab_size'],embedding_dim=cfg['emb_dim'])\n",
    "        self.pos=nn.Embedding(num_embeddings=cfg['context_length'],embedding_dim=cfg['emb_dim'])\n",
    "        self.dropout=nn.Dropout(cfg['drop_rate'])\n",
    "        \n",
    "        \n",
    "        self.tf=nn.Sequential(\n",
    "            *[TransformerBlock(cfg) for _ in range(cfg['n_layers'])]\n",
    "        )\n",
    "        self.norm=LayerNorm(cfg['emb_dim'])\n",
    "        self.fc=nn.Linear(cfg['emb_dim'],cfg['vocab_size'],bias=False)\n",
    "    def forward(self,x):\n",
    "        b,token_size=x.shape\n",
    "        embed=self.emb(x)\n",
    "        posi=self.pos(torch.arange(token_size,device=x.device))\n",
    "        x=embed+posi\n",
    "        out=self.dropout(x)\n",
    "        out=self.tf(x)\n",
    "        out=self.norm(out)\n",
    "        out=self.fc(out)\n",
    "        \n",
    "        return out"
   ]
  },
  {
   "cell_type": "code",
   "execution_count": 91,
   "metadata": {},
   "outputs": [
    {
     "data": {
      "text/plain": [
       "tensor([[6109, 3626, 6100,  345],\n",
       "        [6109, 3626, 6100,  345]])"
      ]
     },
     "execution_count": 91,
     "metadata": {},
     "output_type": "execute_result"
    }
   ],
   "source": [
    "batch"
   ]
  },
  {
   "cell_type": "code",
   "execution_count": 93,
   "metadata": {},
   "outputs": [
    {
     "data": {
      "text/plain": [
       "tensor([[[ 0.1474,  0.0156, -0.2362,  ...,  0.3034,  0.1746, -0.1839],\n",
       "         [ 0.2418, -1.0413, -0.3459,  ..., -0.0230,  0.5066, -0.6183],\n",
       "         [ 1.0513, -0.7881, -0.1305,  ..., -0.1484,  0.0746, -0.5877],\n",
       "         [-0.0426, -0.6350, -0.1387,  ...,  0.4113,  0.2560, -0.6925]],\n",
       "\n",
       "        [[ 0.5293, -0.2725, -0.3075,  ...,  0.2523,  0.6957, -0.8043],\n",
       "         [ 0.3081, -0.9317, -1.1856,  ...,  0.0471,  0.8333, -0.0140],\n",
       "         [ 0.7518, -0.8315, -0.2779,  ...,  0.3360,  0.5016, -0.1821],\n",
       "         [-0.2372, -0.5721, -0.1533,  ...,  0.8093,  0.6410, -0.6870]]],\n",
       "       grad_fn=<UnsafeViewBackward0>)"
      ]
     },
     "execution_count": 93,
     "metadata": {},
     "output_type": "execute_result"
    }
   ],
   "source": [
    "torch.manual_seed(123)\n",
    "model=GPTModel(GPT_CONFIG_124M)\n",
    "outs=model(batch)\n",
    "outs"
   ]
  },
  {
   "cell_type": "code",
   "execution_count": 99,
   "metadata": {},
   "outputs": [
    {
     "name": "stdout",
     "output_type": "stream",
     "text": [
      "Total number of parameters: 163,009,536\n"
     ]
    }
   ],
   "source": [
    "# 使用 numel() 方法（即 `number of elements` 的缩写），可以统计模型中参数张量的总参数量：\n",
    "total_params = sum(p.numel() for p in model.parameters())\n",
    "print(f\"Total number of parameters: {total_params:,}\")"
   ]
  },
  {
   "cell_type": "code",
   "execution_count": 100,
   "metadata": {},
   "outputs": [
    {
     "data": {
      "text/plain": [
       "torch.Size([50257, 768])"
      ]
     },
     "execution_count": 100,
     "metadata": {},
     "output_type": "execute_result"
    }
   ],
   "source": [
    "# 原因在于 GPT-2 架构中使用了一种称为‘权重共享’的概念，这意味着 GPT-2 架构将 token 嵌入层的权重复用于输出层\n",
    "model.emb.weight.shape"
   ]
  },
  {
   "cell_type": "code",
   "execution_count": 101,
   "metadata": {},
   "outputs": [
    {
     "data": {
      "text/plain": [
       "torch.Size([50257, 768])"
      ]
     },
     "execution_count": 101,
     "metadata": {},
     "output_type": "execute_result"
    }
   ],
   "source": [
    "model.fc.weight.shape"
   ]
  },
  {
   "cell_type": "code",
   "execution_count": 104,
   "metadata": {},
   "outputs": [
    {
     "name": "stdout",
     "output_type": "stream",
     "text": [
      "Total number of parameters: 124,412,160\n"
     ]
    }
   ],
   "source": [
    "end_params=total_params-sum([param.numel() for param in model.fc.parameters()])\n",
    "print(f\"Total number of parameters: {end_params:,}\")"
   ]
  },
  {
   "cell_type": "code",
   "execution_count": 108,
   "metadata": {},
   "outputs": [
    {
     "data": {
      "text/plain": [
       "'621.83203125MB'"
      ]
     },
     "execution_count": 108,
     "metadata": {},
     "output_type": "execute_result"
    }
   ],
   "source": [
    "# 计算参数占用的内存 假设每位是float32，4个字节\n",
    "str(total_params*4/1024**2)+'MB'"
   ]
  },
  {
   "cell_type": "code",
   "execution_count": 151,
   "metadata": {},
   "outputs": [],
   "source": [
    "# Listing 4.8 A function for the GPT model to generate text\n",
    "# 根据idx生成max_new_tokens长度的预测结果\n",
    "def generate_text_simple(model, idx, max_new_tokens, context_size): #A\n",
    "    b,token_size=idx.shape\n",
    "    for _ in range(max_new_tokens):\n",
    "        inputs=idx[:,-context_size:]\n",
    "        with torch.no_grad():\n",
    "            # b,context_size,vocab_size\n",
    "            outputs=model(inputs)\n",
    "        # 只有最后一个预测的才有用\n",
    "        probs=outputs[:,-1,:]\n",
    "        probs=torch.softmax(probs,dim=-1)\n",
    "        outputs=probs.argmax(dim=-1,keepdim=True)\n",
    "        idx=torch.cat((idx,outputs),dim=1)\n",
    "        \n",
    "    return idx     "
   ]
  },
  {
   "cell_type": "code",
   "execution_count": 152,
   "metadata": {},
   "outputs": [],
   "source": [
    "import tiktoken"
   ]
  },
  {
   "cell_type": "code",
   "execution_count": 153,
   "metadata": {},
   "outputs": [
    {
     "data": {
      "text/plain": [
       "torch.Size([1, 4])"
      ]
     },
     "execution_count": 153,
     "metadata": {},
     "output_type": "execute_result"
    }
   ],
   "source": [
    "tokenizer=tiktoken.get_encoding('gpt2')\n",
    "text=\"Hello, I am\"\n",
    "batch=torch.tensor(tokenizer.encode(text)).unsqueeze(0)\n",
    "batch.shape"
   ]
  },
  {
   "cell_type": "code",
   "execution_count": 161,
   "metadata": {},
   "outputs": [],
   "source": [
    "# eval会省略dropout层\n",
    "model.eval()             #A\n",
    "out = generate_text_simple(\n",
    "    model=model,\n",
    "    idx=batch,\n",
    "    max_new_tokens=6,\n",
    "    context_size=GPT_CONFIG_124M[\"context_length\"]\n",
    ")"
   ]
  },
  {
   "cell_type": "code",
   "execution_count": 162,
   "metadata": {},
   "outputs": [
    {
     "data": {
      "text/plain": [
       "tensor([[15496,    11,   314,   716,   349, 29448, 40144, 43496, 10262, 10262]])"
      ]
     },
     "execution_count": 162,
     "metadata": {},
     "output_type": "execute_result"
    }
   ],
   "source": [
    "out.shape\n",
    "out"
   ]
  },
  {
   "cell_type": "code",
   "execution_count": 163,
   "metadata": {},
   "outputs": [
    {
     "data": {
      "text/plain": [
       "'Hello, I amol amen Kidd LuminAgAg'"
      ]
     },
     "execution_count": 163,
     "metadata": {},
     "output_type": "execute_result"
    }
   ],
   "source": [
    "tokenizer.decode(out.squeeze(0).tolist())"
   ]
  },
  {
   "cell_type": "code",
   "execution_count": null,
   "metadata": {},
   "outputs": [],
   "source": []
  },
  {
   "cell_type": "code",
   "execution_count": null,
   "metadata": {},
   "outputs": [],
   "source": []
  }
 ],
 "metadata": {
  "kernelspec": {
   "display_name": "mine",
   "language": "python",
   "name": "mine"
  },
  "language_info": {
   "codemirror_mode": {
    "name": "ipython",
    "version": 3
   },
   "file_extension": ".py",
   "mimetype": "text/x-python",
   "name": "python",
   "nbconvert_exporter": "python",
   "pygments_lexer": "ipython3",
   "version": "3.9.21"
  }
 },
 "nbformat": 4,
 "nbformat_minor": 2
}
